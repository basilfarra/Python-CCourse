{
  "cells": [
    {
      "cell_type": "markdown",
      "metadata": {
        "id": "rp6RZSgwg2S0"
      },
      "source": [
        "**Exercise 1**\n",
        " \n",
        "\n",
        "Write a script that request two number from user\n",
        "Make a sum with the two numbers and save result in a variable. \n",
        "Finally print result variable"
      ]
    },
    {
      "cell_type": "code",
      "execution_count": null,
      "metadata": {
        "colab": {
          "base_uri": "https://localhost:8080/"
        },
        "id": "AEpgtXfkxlrl",
        "outputId": "161388df-cb5f-4193-de2b-e222828e22f8"
      },
      "outputs": [
        {
          "name": "stdout",
          "output_type": "stream",
          "text": [
            "First number: 5.2\n",
            "Second number: 1.2\n",
            "\n",
            "The sum of two numbers is:*6.4\n"
          ]
        }
      ],
      "source": [
        "#Sum Two numbers. \n",
        "\n",
        "# Request first number from user. \n",
        "a = float(input(\"First number: \"))\n",
        "\n",
        "# Request second number to user. \n",
        "b = float(input(\"Second number: \"))\n",
        "\n",
        "# Make the sum. \n",
        "c = a + b\n",
        "\n",
        "# Show result in screen.\n",
        "print(\"\\nThe sum of two numbers is:\", c)"
      ]
    },
    {
      "cell_type": "code",
      "source": [],
      "metadata": {
        "id": "UcH0jGSV2TlE"
      },
      "execution_count": null,
      "outputs": []
    },
    {
      "cell_type": "markdown",
      "metadata": {
        "id": "8d7A0agwhh6u"
      },
      "source": [
        "**Exercise 2**\n",
        " \n",
        "\n",
        "Create an algorithm to calculate perimeter and area of a circle\n",
        " \n",
        "\n",
        "\n",
        "*   Create a variable with  pi value\n",
        "*   Request radius from the user\n",
        "*   Calculate perimeter and save in variable\n",
        "*   Calculate area and save in variable \n",
        "*   Print in screen perimeter and area variables"
      ]
    },
    {
      "cell_type": "code",
      "execution_count": null,
      "metadata": {
        "id": "JqIRmchRh6_a"
      },
      "outputs": [],
      "source": [
        "# Variables:\n",
        "PI = 3.141592\n",
        "\n",
        "# Request the radius from the user\n",
        "r = float(input(\"Enter the radius of the circle:\"))\n",
        "\n",
        "# Calculate perimeter \n",
        "p = 2 * PI * r\n",
        "\n",
        "# Calculate area\n",
        "a = PI * r ** 2\n",
        "\n",
        "# Show the results on the screen\n",
        "print(\"The perimeter of the circle is: \", p)\n",
        "print(\"The area of the circle is: \", a)"
      ]
    },
    {
      "cell_type": "markdown",
      "metadata": {
        "id": "eYb_qyB6ivd-"
      },
      "source": [
        "**Exercise 3**\n",
        " \n",
        "\n",
        "Algorithm to transform Fahrenheit to Celsius\n",
        "\n",
        "Request Fahrenheit from user,\n",
        "make transformation\n",
        ", and show result in screen."
      ]
    },
    {
      "cell_type": "code",
      "execution_count": null,
      "metadata": {
        "colab": {
          "base_uri": "https://localhost:8080/"
        },
        "id": "NdjrkKMPjIIB",
        "outputId": "57fa877e-1a25-4ef6-a607-59493183a3bb"
      },
      "outputs": [
        {
          "output_type": "stream",
          "name": "stdout",
          "text": [
            "Enter Fahrenheit Degrees:85\n",
            "85.0 degrees Fahrenheit correspond to 29.444444444444446 degrees Celsius\n"
          ]
        }
      ],
      "source": [
        "# Request Fahrenheit degrees to transform into Celsius\n",
        "f = float(input(\"Enter Fahrenheit Degrees:\"))\n",
        "\n",
        "# Make conversion \n",
        "c = (f - 32.0) * (5.0 / 9.0)\n",
        "\n",
        "# Show result in screen \n",
        "print(f, \"degrees Fahrenheit correspond to\", c, \"degrees Celsius\")"
      ]
    },
    {
      "cell_type": "markdown",
      "source": [
        "**Exercise 4**\n",
        "\n",
        "Write a program that prints the numbers from 1 to 100. But for **multiples of three print “F”** instead of the number and for the **multiples of five print “B”**. For numbers which are **multiples of both three and five print “FB”**"
      ],
      "metadata": {
        "id": "i0iCHzfxT0rN"
      }
    },
    {
      "cell_type": "code",
      "source": [
        "for i in range(1, 101):\n",
        "    if (i % 3 == 0 and i % 5 == 0): \n",
        "        print(\"FB\")\n",
        "    elif i % 3 == 0:\n",
        "        print(\"F\")\n",
        "    elif i % 5 == 0:\n",
        "        print(\"B\")\n",
        "    else:\n",
        "        print(i)"
      ],
      "metadata": {
        "id": "MUBkzyZYT-eJ"
      },
      "execution_count": null,
      "outputs": []
    },
    {
      "cell_type": "markdown",
      "source": [
        "**Exercise 5**\n",
        "\n",
        "Determine if positive integer number is a prime number or not.\n",
        "\n",
        "\n",
        "Remember:\n",
        "\n",
        "A prime number is a natural number greater than 1 that has no positive divisors other than 1 and itself."
      ],
      "metadata": {
        "id": "70QDlGk5UHXx"
      }
    },
    {
      "cell_type": "code",
      "source": [
        "n = int(input('Enter a number...'))\n",
        "for i in range(2, n):\n",
        "  if n % i == 0:\n",
        "    x = ('Not Prime')\n",
        "    break\n",
        "  else: \n",
        "    x = ('Prime')\n",
        "print(x)"
      ],
      "metadata": {
        "colab": {
          "base_uri": "https://localhost:8080/"
        },
        "id": "Sw1xpJf1UQKS",
        "outputId": "b74bcd39-6ae7-4d7d-9599-692cb27ec9d4"
      },
      "execution_count": null,
      "outputs": [
        {
          "output_type": "stream",
          "name": "stdout",
          "text": [
            "Enter a number... 17\n",
            "Prime\n"
          ]
        }
      ]
    },
    {
      "cell_type": "markdown",
      "source": [
        "# Some exampels on string"
      ],
      "metadata": {
        "id": "NiyFGydoRwEj"
      }
    },
    {
      "cell_type": "code",
      "execution_count": null,
      "metadata": {
        "id": "p191JYG9nOIn",
        "colab": {
          "base_uri": "https://localhost:8080/"
        },
        "outputId": "6b409298-b0df-454e-f74f-08e48b3378cd"
      },
      "outputs": [
        {
          "output_type": "stream",
          "name": "stdout",
          "text": [
            "hello thereana\n",
            "hello there ana\n",
            "hello there ana ana ana\n"
          ]
        }
      ],
      "source": [
        "hi = \"hello there\"\n",
        "name = \"ana\"\n",
        "greet = hi + name  \n",
        "print(greet)\n",
        "greeting = hi + \" \" + name\n",
        "print(greeting)\n",
        "silly = hi + (\" \" + name)*3\n",
        "print(silly)"
      ]
    },
    {
      "cell_type": "code",
      "execution_count": null,
      "metadata": {
        "id": "uM5vle4RnWie",
        "colab": {
          "base_uri": "https://localhost:8080/"
        },
        "outputId": "e837a4d8-f2a6-4002-9e26-0d280f58e780"
      },
      "outputs": [
        {
          "output_type": "stream",
          "name": "stdout",
          "text": [
            "1\n",
            "my fav number is 1 . x= 1\n",
            "my fav number is 1.x=1\n",
            "my fav number is1.x=1\n"
          ]
        }
      ],
      "source": [
        "x = 1\n",
        "print(x)\n",
        "x_str = str(x)\n",
        "print(\"my fav number is\", x, \".\", \"x=\", x)\n",
        "print(\"my fav number is\", x_str + \".\" + \"x=\" + x_str)\n",
        "print(\"my fav number is\" + x_str + \".\" + \"x=\" + x_str)"
      ]
    },
    {
      "cell_type": "code",
      "execution_count": null,
      "metadata": {
        "colab": {
          "base_uri": "https://localhost:8080/"
        },
        "id": "ymlTefFPngGH",
        "outputId": "55be4276-1648-4f6b-e9c8-63116c1728e7"
      },
      "outputs": [
        {
          "output_type": "stream",
          "name": "stdout",
          "text": [
            "Type anything... 5\n",
            "55555\n",
            "Type a number... 5\n",
            "25\n"
          ]
        }
      ],
      "source": [
        "text = input(\"Type anything... \")\n",
        "print(5*text)\n",
        "num = int(input(\"Type a number... \"))\n",
        "print(5*num)"
      ]
    },
    {
      "cell_type": "markdown",
      "source": [
        "# Some examples on for loop and if elif else"
      ],
      "metadata": {
        "id": "oe5b9UcxVAfM"
      }
    },
    {
      "cell_type": "code",
      "source": [
        "x = float(input(\"Enter a number for x: \"))\n",
        "y = float(input(\"Enter a number for y: \"))\n",
        "if x == y:\n",
        "   print(\"x and y are equal\")\n",
        "   if y != 0:\n",
        "       print(\"therefore, x / y is\", x / y)\n",
        "elif x < y:\n",
        "   print(\"x is smaller\")\n",
        "elif x > y:\n",
        "   print(\"y is smaller\")\n",
        "print(\"thanks!\")"
      ],
      "metadata": {
        "colab": {
          "base_uri": "https://localhost:8080/"
        },
        "id": "NsNoBTMOVVYB",
        "outputId": "983dd4d6-4c13-4858-9cf3-2d225f67837b"
      },
      "execution_count": null,
      "outputs": [
        {
          "output_type": "stream",
          "name": "stdout",
          "text": [
            "Enter a number for x: 5\n",
            "Enter a number for y: 4\n",
            "y is smaller\n",
            "thanks!\n"
          ]
        }
      ]
    },
    {
      "cell_type": "code",
      "source": [
        "animals = ['cat', 'dog', 'monkey']\n",
        "for animal in animals:\n",
        "    print(animal)"
      ],
      "metadata": {
        "id": "FJQRarfwVn3j",
        "outputId": "59276f5b-6bfc-495d-cc4c-85a615e9dfd8",
        "colab": {
          "base_uri": "https://localhost:8080/"
        }
      },
      "execution_count": null,
      "outputs": [
        {
          "output_type": "stream",
          "name": "stdout",
          "text": [
            "cat\n",
            "dog\n",
            "monkey\n"
          ]
        }
      ]
    },
    {
      "cell_type": "code",
      "source": [
        "# mysum = 0\n",
        "# for i in range(7, 10):\n",
        "# \t mysum += i\n",
        "# print(mysum)\n",
        "\n",
        "\n",
        "mysum = 0\n",
        "for i in range(5, 11, 2):  \n",
        "\tmysum += i\n",
        "print(mysum)"
      ],
      "metadata": {
        "colab": {
          "base_uri": "https://localhost:8080/"
        },
        "id": "c4j_WUmlVdwT",
        "outputId": "5d25d1bc-8439-4fea-f51a-4209ed7518c5"
      },
      "execution_count": null,
      "outputs": [
        {
          "output_type": "stream",
          "name": "stdout",
          "text": [
            "21\n"
          ]
        }
      ]
    }
  ],
  "metadata": {
    "colab": {
      "provenance": [],
      "collapsed_sections": []
    },
    "kernelspec": {
      "display_name": "Python 3",
      "name": "python3"
    },
    "language_info": {
      "name": "python"
    }
  },
  "nbformat": 4,
  "nbformat_minor": 0
}