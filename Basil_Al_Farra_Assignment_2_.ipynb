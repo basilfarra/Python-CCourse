{
  "nbformat": 4,
  "nbformat_minor": 0,
  "metadata": {
    "colab": {
      "provenance": [],
      "collapsed_sections": []
    },
    "kernelspec": {
      "name": "python3",
      "display_name": "Python 3"
    },
    "language_info": {
      "name": "python"
    }
  },
  "cells": [
    {
      "cell_type": "markdown",
      "source": [
        "**AI-Lab**\n",
        "---\n",
        "**Second Assignment**\n",
        "---\n",
        "---\n",
        "**Student Name:** *your name here*\n",
        "\n",
        "**Student ID:** *your id here*\n",
        "\n",
        "---\n",
        "**Mark: --/10**"
      ],
      "metadata": {
        "id": "uXRsqdktUHGe"
      }
    },
    {
      "cell_type": "code",
      "source": [],
      "metadata": {
        "id": "XkTm5QgdDhRD"
      },
      "execution_count": null,
      "outputs": []
    },
    {
      "cell_type": "markdown",
      "source": [
        "**A. single_number**\n",
        "\n",
        "Given a non-empty list of integers, every element appears twice except for one. Find that single one.\n",
        "\n",
        "Example:\n",
        "\n",
        "Input: [4,1,2,1,2]\n",
        "\n",
        "Output: 4"
      ],
      "metadata": {
        "id": "iteP63F_YUMS"
      }
    },
    {
      "cell_type": "code",
      "execution_count": 5,
      "metadata": {
        "id": "E7D_bKkrR-n_",
        "outputId": "4018960d-83b6-41e9-df74-08f0cbe572fa",
        "colab": {
          "base_uri": "https://localhost:8080/"
        }
      },
      "outputs": [
        {
          "output_type": "stream",
          "name": "stdout",
          "text": [
            "5\n",
            "1\n"
          ]
        }
      ],
      "source": [
        "def single_number(arr):\n",
        "    result = 0\n",
        "    for i in arr:\n",
        "        result ^= i\n",
        "    return result\n",
        "\n",
        "arr1 = [5, 3, 4, 3, 4]\n",
        "arr2 = [3, 2, 5, 2, 1, 5, 3]\n",
        "\n",
        "print(single_number(arr1))\n",
        "print(single_number(arr2))"
      ]
    },
    {
      "cell_type": "markdown",
      "source": [
        "**B. majority_element**\n",
        "\n",
        "Given a list of size n, return the majority element.\n",
        "\n",
        "The majority element appears more than [n / 2] times.\n",
        "\n",
        "Example:\n",
        "\n",
        "Input: [2,2,1,1,1,2,2]\n",
        "\n",
        "Output: 2\n",
        "\n",
        "Input: [3,2,3] \n",
        "\n",
        "Output: 3"
      ],
      "metadata": {
        "id": "g2gHemcLa68u"
      }
    },
    {
      "cell_type": "code",
      "source": [
        "def majority_element(num_list):\n",
        "        idx, ctr = 0, 1\n",
        "        \n",
        "        for i in range(1, len(num_list)):\n",
        "            if num_list[idx] == num_list[i]:\n",
        "                ctr += 1\n",
        "            else:\n",
        "                ctr -= 1\n",
        "                if ctr == 0:\n",
        "                    idx = i\n",
        "                    ctr = 1\n",
        "        \n",
        "        return num_list[idx]\n",
        "\n",
        "print(majority_element([1, 2, 3, 4, 5, 5, 5, 5, 5, 5, 6]))\n",
        "\n",
        "print(majority_element([1,2,3,4,3,3,2,4,5,6,1,2,3,4,6,1,2,3,4,6,6]))\n"
      ],
      "metadata": {
        "id": "TA4uS0cHYPRm",
        "colab": {
          "base_uri": "https://localhost:8080/"
        },
        "outputId": "7f667bdc-9b1a-4301-f174-906f8a83b0bb"
      },
      "execution_count": 4,
      "outputs": [
        {
          "output_type": "stream",
          "name": "stdout",
          "text": [
            "5\n",
            "6\n"
          ]
        }
      ]
    },
    {
      "cell_type": "markdown",
      "source": [
        "**C. match_ends**\n",
        "\n",
        "Given a list of strings, return the count of the number of strings where the string length is 2 or more and the first and last chars of the string are the same.\n",
        "\n",
        "Note: python does not have a ++ operator, but += works."
      ],
      "metadata": {
        "id": "mnu7OSOlT3CK"
      }
    },
    {
      "cell_type": "code",
      "source": [
        "def match_words(words):\n",
        "  ctr = 0\n",
        "\n",
        "  for word in words:\n",
        "    if len(word) > 1 and word[0] == word[-1]:\n",
        "      ctr += 1\n",
        "  return ctr\n",
        "\n",
        "print(match_words(['abc', 'basil', 'aba', 'baaba']))\n"
      ],
      "metadata": {
        "id": "pFDB-oUFVyWN",
        "colab": {
          "base_uri": "https://localhost:8080/"
        },
        "outputId": "6646e0b5-65fc-436f-ac40-7896f315b777"
      },
      "execution_count": 3,
      "outputs": [
        {
          "output_type": "stream",
          "name": "stdout",
          "text": [
            "1\n"
          ]
        }
      ]
    },
    {
      "cell_type": "markdown",
      "source": [
        "**D. front_x**\n",
        "\n",
        "Given a list of strings, return a list with the strings in sorted order, except group all the strings that begin with 'x' first.\n",
        "\n",
        "e.g. ['mix', 'xyz', 'apple', 'xanadu', 'aardvark'] \n",
        "\n",
        "yields ['xanadu', 'xyz', 'aardvark', 'apple', 'mix']\n",
        "\n",
        "Hint: this can be done by making 2 lists and sorting each of them before combining them."
      ],
      "metadata": {
        "id": "cALEcgSUYMMH"
      }
    },
    {
      "cell_type": "code",
      "source": [
        "def front_x(words):\n",
        "  for word in words:\n",
        "      if word[0:1] == \"x\":\n",
        "          Liste = []\n",
        "          Liste += word\n",
        "      else:\n",
        "          Liste2 = []\n",
        "          Liste2 += word\n",
        "\n",
        "  return sorted(Liste) + sorted(Liste2)\n",
        "words = ['mix', 'xyz', 'apple', 'xanadu', 'aardvark']\n",
        "print(front_x(words))"
      ],
      "metadata": {
        "id": "krUI4I1Ta3a4",
        "colab": {
          "base_uri": "https://localhost:8080/"
        },
        "outputId": "e10cb40f-9e02-402f-813a-23f0a23e6c51"
      },
      "execution_count": 2,
      "outputs": [
        {
          "output_type": "stream",
          "name": "stdout",
          "text": [
            "['a', 'a', 'd', 'n', 'u', 'x', 'a', 'a', 'a', 'd', 'k', 'r', 'r', 'v']\n"
          ]
        }
      ]
    },
    {
      "cell_type": "markdown",
      "source": [
        "**E. sort_last**\n",
        "\n",
        "Given a list of non-empty tuples, return a list sorted in increasing order by the last element in each tuple.\n",
        "\n",
        "e.g. [(1, 7), (1, 3), (3, 4, 5), (2, 2)] \n",
        "\n",
        "yields [(2, 2), (1, 3), (3, 4, 5), (1, 7)]\n",
        "\n",
        "Hint: use a custom key= function to extract the last element form each tuple."
      ],
      "metadata": {
        "id": "WbEqii-rUr4d"
      }
    },
    {
      "cell_type": "code",
      "source": [
        "def sort_last(tuples):\n",
        "     for t in tuples :\n",
        "          last_element = t[-1]\n",
        "     return sorted(tup, key=lambda x:x[-1])\n",
        "tup =[ (1, 7), (1, 3), (3, 4, 5), (2, 2)]\n",
        "print(sort_last(tup))"
      ],
      "metadata": {
        "id": "N23M14Rsa7iI",
        "colab": {
          "base_uri": "https://localhost:8080/"
        },
        "outputId": "c763d304-75b5-46a1-c891-17a506fc43f3"
      },
      "execution_count": 1,
      "outputs": [
        {
          "output_type": "stream",
          "name": "stdout",
          "text": [
            "[(2, 2), (1, 3), (3, 4, 5), (1, 7)]\n"
          ]
        }
      ]
    },
    {
      "cell_type": "markdown",
      "source": [
        "**Submission**\n",
        "\n",
        "To submit this notebook go to share on the top right of the screen and change the general access to \"**Anyone with the link**\" and make sure to change the role from \"Viewer\" to \"**Editor**\" to edit your notebook by adding mark, then copy link and paste it in the specified place on students' e-learning platform \"Moodle\".\n",
        "\n",
        "---\n",
        "**Instructor: Ibrahim O. I. Kaware**"
      ],
      "metadata": {
        "id": "ZQatmtaHgyu4"
      }
    }
  ]
}