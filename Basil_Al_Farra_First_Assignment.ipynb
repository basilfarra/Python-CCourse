{
  "nbformat": 4,
  "nbformat_minor": 0,
  "metadata": {
    "colab": {
      "provenance": [],
      "collapsed_sections": [],
      "include_colab_link": true
    },
    "kernelspec": {
      "name": "python3",
      "display_name": "Python 3"
    },
    "language_info": {
      "name": "python"
    }
  },
  "cells": [
    {
      "cell_type": "markdown",
      "metadata": {
        "id": "view-in-github",
        "colab_type": "text"
      },
      "source": [
        "<a href=\"https://colab.research.google.com/github/basilfarra/Python-CCourse/blob/main/Basil_Al_Farra_First_Assignment.ipynb\" target=\"_parent\"><img src=\"https://colab.research.google.com/assets/colab-badge.svg\" alt=\"Open In Colab\"/></a>"
      ]
    },
    {
      "cell_type": "markdown",
      "source": [
        "**AI-Lab**\n",
        "---\n",
        "**First Assignment**\n",
        "---\n",
        "---\n",
        "**Student Name:** *your name here*\n",
        "\n",
        "**Student ID:** *your id here*\n",
        "\n",
        "---\n",
        "**Mark: --/10**"
      ],
      "metadata": {
        "id": "uXRsqdktUHGe"
      }
    },
    {
      "cell_type": "markdown",
      "source": [
        "**1. Age Classifier**\n",
        "\n",
        "Write a program that asks the user to enter a person’s age. The program should display \n",
        "a message indicating whether the person is an infant, a child, a teenager, or an adult. \n",
        "Following are the guidelines:\n",
        "\n",
        "• If the person is 1 year old or less, he or she is an infant.\n",
        "\n",
        "• If the person is older than 1 year, but younger than 13 years, he or she is a child.\n",
        "\n",
        "• If the person is at least 13 years old, but less than 20 years old, he or she is a teenager.\n",
        "\n",
        "• If the person is at least 20 years old, he or she is an adult."
      ],
      "metadata": {
        "id": "mnu7OSOlT3CK"
      }
    },
    {
      "cell_type": "code",
      "execution_count": null,
      "metadata": {
        "id": "E7D_bKkrR-n_",
        "outputId": "f452643d-3aa4-4247-b959-9cdbe00ec7f4",
        "colab": {
          "base_uri": "https://localhost:8080/"
        }
      },
      "outputs": [
        {
          "output_type": "stream",
          "name": "stdout",
          "text": [
            "Please enter a persons age.15\n",
            "The person is a teenager.\n"
          ]
        }
      ],
      "source": [
        "age = int(input('Please enter a persons age.'))\n",
        "\n",
        "if age <= 1 and age > 0: \n",
        "  print ('The person is an infant.')\n",
        "elif age > 1 and age < 13:\n",
        "    print ('The person is a child.')\n",
        "elif age >= 13 and age < 20:\n",
        "    print ('The person is a teenager.')\n",
        "elif  age >= 20:\n",
        "    print ('The person is an adult.')\n",
        "else:\n",
        "    print ('Check that your input is an integer and try again.')\n"
      ]
    },
    {
      "cell_type": "markdown",
      "source": [
        "**2. Calories Burned**\n",
        "\n",
        "Running on a particular treadmill you burn 4.2 calories per minute. Write a program that \n",
        "uses a loop to display the number of calories burned after 10, 15, 20, 25, and 30 minutes."
      ],
      "metadata": {
        "id": "cALEcgSUYMMH"
      }
    },
    {
      "cell_type": "code",
      "source": [
        "for i in range(10,31,5):\n",
        "    print(f'You burned {4.2*i} calories on the treadmill in {i} minutes.')\n"
      ],
      "metadata": {
        "id": "TA4uS0cHYPRm",
        "outputId": "9234d9dc-e810-4bc0-95c1-397a41798b99",
        "colab": {
          "base_uri": "https://localhost:8080/"
        }
      },
      "execution_count": null,
      "outputs": [
        {
          "output_type": "stream",
          "name": "stdout",
          "text": [
            "You burned 42.0 calories on the treadmill in 10 minutes.\n",
            "You burned 63.0 calories on the treadmill in 15 minutes.\n",
            "You burned 84.0 calories on the treadmill in 20 minutes.\n",
            "You burned 105.0 calories on the treadmill in 25 minutes.\n",
            "You burned 126.0 calories on the treadmill in 30 minutes.\n"
          ]
        }
      ]
    },
    {
      "cell_type": "markdown",
      "source": [
        "**3. Calculating the Factorial of a Number**\n",
        "\n",
        "In mathematics, the notation *n!* represents the factorial of the nonnegative integer n. The \n",
        "factorial of n is the product of all the nonnegative integers from 1 to n.\n",
        "\n",
        "Write a program that lets the user enter a nonnegative integer then uses a loop to calculate \n",
        "the factorial of that number. Display the factorial."
      ],
      "metadata": {
        "id": "WbEqii-rUr4d"
      }
    },
    {
      "cell_type": "code",
      "source": [
        "Number = int(input(\"Enter the number to calculate the factorial: \"))\n",
        "factorial = 1\n",
        "for i in range(1,Number+1):\n",
        "    factorial = i*factorial\n",
        "\n",
        "print(\"Factorial of \",Number,\" is : \", factorial)\n"
      ],
      "metadata": {
        "id": "pFDB-oUFVyWN",
        "outputId": "399468c8-1c17-4197-9f70-118d73444321",
        "colab": {
          "base_uri": "https://localhost:8080/"
        }
      },
      "execution_count": null,
      "outputs": [
        {
          "output_type": "stream",
          "name": "stdout",
          "text": [
            "Enter the number to calculate the factorial: 5\n",
            "Factorial of  5  is :  120\n"
          ]
        }
      ]
    },
    {
      "cell_type": "markdown",
      "source": [
        "**4. Find the sum of the series upto n terms**\n",
        "\n",
        "Write a program to calculate the sum of series up to n term. For example, if n = 5 and starter number of series is 2 the series will become 2 + 22 + 222 + 2222 + 22222 = 24690"
      ],
      "metadata": {
        "id": "iteP63F_YUMS"
      }
    },
    {
      "cell_type": "code",
      "source": [
        "number_of_terms = int(input(\"Enter the number to calculate the terms \"))\n",
        "sum1=0\n",
        "for i in range (1, number_of_terms + 1):\n",
        "    sum1 += int('2' * i)\n",
        "print(sum1)\n"
      ],
      "metadata": {
        "id": "krUI4I1Ta3a4",
        "outputId": "2eafa8e2-986b-4896-d19d-e86aed571a15",
        "colab": {
          "base_uri": "https://localhost:8080/"
        }
      },
      "execution_count": null,
      "outputs": [
        {
          "output_type": "stream",
          "name": "stdout",
          "text": [
            "Enter the number to calculate the terms 2\n",
            "24\n"
          ]
        }
      ]
    },
    {
      "cell_type": "markdown",
      "source": [
        "**5. Print the following pattern**\n",
        "\n",
        "Write a program that uses nested loops to draw this pattern:\n",
        "\n",
        "\n",
        "\n",
        "```\n",
        "* * * * * * *\n",
        "* * * * * *\n",
        "* * * * * \n",
        "* * * * \n",
        "* * * \n",
        "* * \n",
        "*\n",
        "```\n",
        "\n"
      ],
      "metadata": {
        "id": "g2gHemcLa68u"
      }
    },
    {
      "cell_type": "code",
      "source": [
        "for i in reversed(range(8)):\n",
        "    print(\"*\" * i)\n"
      ],
      "metadata": {
        "id": "N23M14Rsa7iI",
        "outputId": "9710f206-510e-45a6-82be-372a798f3444",
        "colab": {
          "base_uri": "https://localhost:8080/"
        }
      },
      "execution_count": null,
      "outputs": [
        {
          "output_type": "stream",
          "name": "stdout",
          "text": [
            "*******\n",
            "******\n",
            "*****\n",
            "****\n",
            "***\n",
            "**\n",
            "*\n",
            "\n"
          ]
        }
      ]
    },
    {
      "cell_type": "markdown",
      "source": [
        "**Submission**\n",
        "\n",
        "To submit this notebook go to share on the top right of the screen and change the general access to \"**Anyone with the link**\" and make sure to change the role from \"Viewer\" to \"**Editor**\" to edit your notebook by adding mark, then copy link and paste it in the specified place on students' e-learning platform \"Moodle\".\n",
        "\n",
        "---\n",
        "**Instructor: Ibrahim O. I. Kaware**"
      ],
      "metadata": {
        "id": "ZQatmtaHgyu4"
      }
    }
  ]
}