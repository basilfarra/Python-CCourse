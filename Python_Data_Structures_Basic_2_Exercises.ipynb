{
  "nbformat": 4,
  "nbformat_minor": 0,
  "metadata": {
    "colab": {
      "provenance": [],
      "collapsed_sections": [],
      "include_colab_link": true
    },
    "kernelspec": {
      "name": "python3",
      "display_name": "Python 3"
    },
    "language_info": {
      "name": "python"
    }
  },
  "cells": [
    {
      "cell_type": "markdown",
      "metadata": {
        "id": "view-in-github",
        "colab_type": "text"
      },
      "source": [
        "<a href=\"https://colab.research.google.com/github/basilfarra/Python-CCourse/blob/main/Python_Data_Structures_Basic_2_Exercises.ipynb\" target=\"_parent\"><img src=\"https://colab.research.google.com/assets/colab-badge.svg\" alt=\"Open In Colab\"/></a>"
      ]
    },
    {
      "cell_type": "markdown",
      "source": [
        "**Exercise 1**\n",
        "\n",
        "Write a Python function named select_odds to select the odd items of a range from 1 to 100.\n",
        "\n",
        "Note: function should result a list with result."
      ],
      "metadata": {
        "id": "U9kaC8OCOka8"
      }
    },
    {
      "cell_type": "code",
      "execution_count": null,
      "metadata": {
        "id": "SCsBnWYqOQue",
        "colab": {
          "base_uri": "https://localhost:8080/"
        },
        "outputId": "e4bd09bb-0782-4bfd-d966-1171c7ffafa5"
      },
      "outputs": [
        {
          "output_type": "stream",
          "name": "stdout",
          "text": [
            "[1, 3, 5, 7, 9, 11, 13, 15, 17, 19, 21, 23, 25, 27, 29, 31, 33, 35, 37, 39, 41, 43, 45, 47, 49, 51, 53, 55, 57, 59, 61, 63, 65, 67, 69, 71, 73, 75, 77, 79, 81, 83, 85, 87, 89, 91, 93, 95, 97, 99]\n"
          ]
        }
      ],
      "source": [
        "def select_odds():\n",
        "  odds = list() # []\n",
        "  for num in range(1, 101, 2):\n",
        "    odds.append(num)\n",
        "  return odds\n",
        "\n",
        "\n",
        "print(select_odds())"
      ]
    },
    {
      "cell_type": "markdown",
      "source": [
        "**Exercise 2**\n",
        "\n",
        "Write function select_unique_values to get unique values from a list.\n",
        "\n",
        "Note: result should be in a list."
      ],
      "metadata": {
        "id": "HAxO09tvOvhC"
      }
    },
    {
      "cell_type": "code",
      "source": [
        "def select_unique_values(l):\n",
        "  return set(l)\n",
        "\n",
        "select_unique_values([1, 2, 1, 1, 3, 4, 2])"
      ],
      "metadata": {
        "id": "iLmTzebXO5I3",
        "colab": {
          "base_uri": "https://localhost:8080/"
        },
        "outputId": "2728e4a3-5cc2-4441-8cd6-dc1a11892a93"
      },
      "execution_count": null,
      "outputs": [
        {
          "output_type": "execute_result",
          "data": {
            "text/plain": [
              "{1, 2, 3, 4}"
            ]
          },
          "metadata": {},
          "execution_count": 1
        }
      ]
    },
    {
      "cell_type": "markdown",
      "source": [
        "**Exercise 3**\n",
        "\n",
        "Write function get_max_min to get the maximum and minimum values in a dictionary and return result in form of tuple.\n",
        "\n",
        "Write function get_max_min_dict to get the maximum and minimum values in a dictionary and return result in form of dictionary.\n",
        "\n",
        "Hint: use max() and min() "
      ],
      "metadata": {
        "id": "pIlcyiVzO8AK"
      }
    },
    {
      "cell_type": "code",
      "source": [
        "def get_max_min(d): \n",
        "\tmaximum = max(d.values())\n",
        "\tminimum = min(d.values())\n",
        "\treturn maximum, minimum\n",
        "\n",
        "def get_max_min_dict(d): \n",
        "\tmaximum = max(d.values())\n",
        "\tminimum = min(d.values())\n",
        "\treturn {'max':maximum,'min':minimum}\n",
        "\n",
        "get_max_min({'A': 1,\n",
        "             'B': 8,\n",
        "\t\t\t\t\t\t 'C': 5,})\n",
        "\n",
        "get_max_min_dict({'A': 1,\n",
        "             'B': 8,\n",
        "\t\t\t\t\t\t 'C': 5,})"
      ],
      "metadata": {
        "id": "bYAA2DOAPM1c",
        "colab": {
          "base_uri": "https://localhost:8080/"
        },
        "outputId": "8ef1d7df-e4a0-4759-a0b6-e10503576c50"
      },
      "execution_count": null,
      "outputs": [
        {
          "output_type": "execute_result",
          "data": {
            "text/plain": [
              "{'max': 8, 'min': 1}"
            ]
          },
          "metadata": {},
          "execution_count": 3
        }
      ]
    },
    {
      "cell_type": "markdown",
      "source": [
        "**Exercise 4**\n",
        "\n",
        "\n",
        "Convert\n",
        "\n",
        "\n",
        "\n",
        "1. dict to list\n",
        "2. set to list\n",
        "3. list to set\n",
        "\n",
        "\n",
        "\n"
      ],
      "metadata": {
        "id": "5ClVSpFmQXlC"
      }
    },
    {
      "cell_type": "code",
      "source": [
        "#dict to lists\n",
        "\"\"\"\n",
        "Note: For python 2.7, python 3.x returns a 'Dictionary view objects'\n",
        "\"\"\"\n",
        "d = {'a': 'Jose', 'b': 'Miguel'}\n",
        "d_keys = d.keys()           #Returns list of dictionary dict's keys\n",
        "d_values = d.values()       #Returns list of dictionary dict's values\n",
        "\n",
        "#set to list \n",
        "words = \"Blah\", \"Hello\"\n",
        "words_list = list(words)\n",
        "\n",
        "#List to set \n",
        "fruit = ['banana', 'orange', 'pineapple']\n",
        "fruit_set = set(fruit)"
      ],
      "metadata": {
        "id": "5GolF9GMQjXS"
      },
      "execution_count": null,
      "outputs": []
    },
    {
      "cell_type": "markdown",
      "source": [
        "List Slicing"
      ],
      "metadata": {
        "id": "Wke0af3FcoP0"
      }
    },
    {
      "cell_type": "code",
      "source": [
        "nums = list(range(5))    # range is a built-in function that creates a list of integers\n",
        "print(nums)         # Prints \"[0, 1, 2, 3, 4]\"\n",
        "print(nums[2:4])    # Get a slice from index 2 to 4 (exclusive); prints \"[2, 3]\"\n",
        "print(nums[2:])     # Get a slice from index 2 to the end; prints \"[2, 3, 4]\"\n",
        "print(nums[:2])     # Get a slice from the start to index 2 (exclusive); prints \"[0, 1]\"\n",
        "print(nums[:])      # Get a slice of the whole list; prints [\"0, 1, 2, 3, 4]\"\n",
        "print(nums[:-1])    # Slice indices can be negative; prints [\"0, 1, 2, 3]\"\n",
        "nums[2:4] = [8, 9] # Assign a new sublist to a slice\n",
        "print(nums)         # Prints \"[0, 1, 8, 9, 4]\""
      ],
      "metadata": {
        "id": "nGoIoUS_WySK",
        "colab": {
          "base_uri": "https://localhost:8080/"
        },
        "outputId": "542be74f-14a0-4e3a-9d3f-cbf35f81ee2c"
      },
      "execution_count": null,
      "outputs": [
        {
          "output_type": "stream",
          "name": "stdout",
          "text": [
            "[0, 1, 2, 3, 4]\n",
            "[2, 3]\n",
            "[2, 3, 4]\n",
            "[0, 1]\n",
            "[0, 1, 2, 3, 4]\n",
            "[0, 1, 2, 3]\n",
            "[0, 1, 8, 9, 4]\n"
          ]
        }
      ]
    }
  ]
}