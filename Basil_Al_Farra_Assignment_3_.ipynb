{
  "nbformat": 4,
  "nbformat_minor": 0,
  "metadata": {
    "colab": {
      "provenance": [],
      "collapsed_sections": []
    },
    "kernelspec": {
      "name": "python3",
      "display_name": "Python 3"
    },
    "language_info": {
      "name": "python"
    }
  },
  "cells": [
    {
      "cell_type": "markdown",
      "source": [
        "**A. Car Class**\n",
        "\n",
        "Write a class named Car that has the following data attributes:\n",
        "\n",
        "* year_model (for the car’s year model)\n",
        "* make (for the make of the car)\n",
        "* peed (for the car’s current speed)\n",
        "\n",
        "The Car class should have an _ _init_ _ method that accepts the car’s year model and make as arguments. These values should be assigned to the object’s year_model and make data attributes. It should also assign 0 to the speed data attribute.\n",
        "\n",
        "The class should also have the following methods:\n",
        "\n",
        "* accelerate\n",
        "\n",
        "  The accelerate method should add 5 to the speed data attribute each time it is called.\n",
        "* brake\n",
        "\n",
        "  The brake method should subtract 5 from the speed data attribute each time it is called.\n",
        "* get_speed\n",
        "\n",
        "  The get_speed method should return the current speed.\n",
        "\n",
        "Next, design a program that creates a Car object then calls the accelerate method five \n",
        "times. After each call to the accelerate method, get the current speed of the car and display it. Then call the brake method five times. After each call to the brake method, get the \n",
        "current speed of the car and display it."
      ],
      "metadata": {
        "id": "iteP63F_YUMS"
      }
    },
    {
      "cell_type": "code",
      "execution_count": null,
      "metadata": {
        "id": "E7D_bKkrR-n_",
        "outputId": "418d79f1-66e5-43d8-9eee-e38a7c0c1e04",
        "colab": {
          "base_uri": "https://localhost:8080/"
        }
      },
      "outputs": [
        {
          "output_type": "stream",
          "name": "stdout",
          "text": [
            "5\n",
            "10\n",
            "15\n",
            "20\n",
            "25\n",
            "20\n",
            "15\n",
            "10\n",
            "5\n",
            "0\n"
          ]
        }
      ],
      "source": [
        "class Car:\n",
        "\n",
        "   def __init__(self, model, make): #init method\n",
        "\n",
        "       self.__year_model = model  #data attributes\n",
        "\n",
        "       self.__make = make\n",
        "\n",
        "       self.__speed = 0\n",
        "\n",
        "   def accelerate(self):  #method accelerate\n",
        "\n",
        "       self.__speed += 5\n",
        "\n",
        "   def brake(self): #method brake\n",
        "\n",
        "       self.__speed -= 5\n",
        "\n",
        "   def get_speed(self): #method get_speed to return speed\n",
        "\n",
        "       return self.__speed\n",
        "\n",
        "car = Car(\"F1\", \"Ferrari\")\n",
        "\n",
        "for i in range(5):\n",
        "\n",
        "   car.accelerate()\n",
        "\n",
        "   print(car.get_speed())\n",
        "\n",
        "for i in range(5):\n",
        "\n",
        "   car.brake()\n",
        "\n",
        "   print(car.get_speed())"
      ]
    },
    {
      "cell_type": "markdown",
      "source": [
        "**B. Employee and ProductionWorker Classes**\n",
        "\n",
        "Write an Employee class that keeps data attributes for the following pieces of information:\n",
        "* Employee name\n",
        "* Employee number\n",
        "\n",
        "Next, write a class named ProductionWorker that is a subclass of the Employee class. \n",
        "The ProductionWorker class should keep data attributes for the following information:\n",
        "* Shift number (an integer, such as 1, 2, or 3)\n",
        "* Hourly pay rate\n",
        "\n",
        "The workday is divided into two shifts: day and night. The shift attribute will hold an \n",
        "integer value representing the shift that the employee works. The day shift is shift 1 and the \n",
        "night shift is shift 2. Write the appropriate accessor and mutator methods for each class.\n",
        "\n",
        "Once you have written the classes, write a program that creates an object of the \n",
        "ProductionWorker class and prompts the user to enter data for each of the object’s data \n",
        "attributes. Store the data in the object, then use the object’s accessor methods to retrieve it \n",
        "and display it on the screen."
      ],
      "metadata": {
        "id": "g2gHemcLa68u"
      }
    },
    {
      "cell_type": "code",
      "source": [
        "#main.py\n",
        "#Employee class\n",
        "class Employee(object):\n",
        "    # constructor\n",
        "    def __init__(self, name, number):\n",
        "        self._name = name\n",
        "        self._number = number\n",
        "    #Get method for name\n",
        "    def getName(self):\n",
        "        return self._name\n",
        "    # Get method for number\n",
        "    def getNumber(self):\n",
        "        return self._number\n",
        "#ProductionWorker class that inherits from Employee class\n",
        "class ProductionWorker (Employee):\n",
        "    #constructor\n",
        "    def __init__(self, name, number, shift,payRate):\n",
        "        Employee.__init__(self, name, number)\n",
        "        self._shift = shift\n",
        "        self._rate = payRate\n",
        "\n",
        "    def getShift(self):\n",
        "        return self._shift\n",
        "\n",
        "    def getRate(self):\n",
        "        return self._rate\n",
        "\n",
        "def main():\n",
        "    # read the employee worker details\n",
        "    empName=input('Enter employee name :')\n",
        "    empNumber=int(input('Enter employee number :'))\n",
        "    #create Employee object\n",
        "    empObject=Employee(empName,empNumber)\n",
        "    #print details of employee object\n",
        "    print('Employee Name: ',empObject.getName())\n",
        "    print('Employee Number: ', empObject.getNumber())\n",
        "    # read the production worker details\n",
        "    productionWorkerName = input('Enter ProductionWorker name :')\n",
        "    productionWorkerNumber = int(input('Enter ProductionWorker number :'))\n",
        "    shiftNumber = input('Enter shiftNumber :')\n",
        "    hourlyPayRate = int(input('Enter  hourly rate,$ :'))\n",
        "    # create productionWorkerObject object\n",
        "    productionWorkerObject = ProductionWorker(productionWorkerName,\n",
        "                                                        productionWorkerNumber,\n",
        "                                                         shiftNumber,\n",
        "                                                         hourlyPayRate)\n",
        "\n",
        "    #print the production worker details\n",
        "    print('ProductionWorker Name: ', productionWorkerObject.getName())\n",
        "    print('ProductionWorker Number: ', productionWorkerObject.getNumber())\n",
        "    print('ProductionWorker Shift: ', productionWorkerObject.getShift())\n",
        "    print('ProductionWorker Pay rate,$: ', productionWorkerObject.getRate())\n",
        "\n",
        "#calling main method to start the program\n",
        "if __name__ == '__main__':\n",
        "    main()\n",
        "\n",
        "    # Made with ❤️ by Basil."
      ],
      "metadata": {
        "id": "TA4uS0cHYPRm",
        "colab": {
          "base_uri": "https://localhost:8080/"
        },
        "outputId": "d92faf80-97e2-417e-c399-11270529b3b7"
      },
      "execution_count": 3,
      "outputs": [
        {
          "output_type": "stream",
          "name": "stdout",
          "text": [
            "Enter employee name :Basil Farra\n",
            "Enter employee number :12345\n",
            "Employee Name:  Basil Farra\n",
            "Employee Number:  12345\n",
            "Enter ProductionWorker name :Sam\n",
            "Enter ProductionWorker number :2525\n",
            "Enter shiftNumber :1\n",
            "Enter  hourly rate,$ :10\n",
            "ProductionWorker Name:  Sam\n",
            "ProductionWorker Number:  2525\n",
            "ProductionWorker Shift:  1\n",
            "ProductionWorker Pay rate,$:  10\n"
          ]
        }
      ]
    }
  ]
}